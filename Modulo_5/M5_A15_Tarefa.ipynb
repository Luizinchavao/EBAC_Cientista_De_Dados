{
  "nbformat": 4,
  "nbformat_minor": 0,
  "metadata": {
    "colab": {
      "provenance": []
    },
    "kernelspec": {
      "name": "python3",
      "display_name": "Python 3"
    },
    "language_info": {
      "name": "python"
    }
  },
  "cells": [
    {
      "cell_type": "code",
      "execution_count": 3,
      "metadata": {
        "colab": {
          "base_uri": "https://localhost:8080/"
        },
        "id": "nheOPj_TZJHT",
        "outputId": "b12261bc-1f72-4680-df82-6d1d1dec8b24"
      },
      "outputs": [
        {
          "output_type": "stream",
          "name": "stdout",
          "text": [
            "Bem-vindo à Calculadora Python!\n",
            "Digite o primeiro número: 10\n",
            "Digite o segundo número: 5\n",
            "\n",
            "Operações disponíveis:\n",
            "1 - Soma | 2 - Subtração | 3 - Multiplicação | 4 - Divisão\n",
            "Escolha uma operação (1-4): 1\n",
            "\n",
            "Resultado: 10.0 + 5.0 = 15.0\n"
          ]
        }
      ],
      "source": [
        "# Calculadora com operações básicas\n",
        "print(\"Bem-vindo à Calculadora Python!\")\n",
        "\n",
        "# Passo 1: Receber os números do usuário\n",
        "num1 = float(input(\"Digite o primeiro número: \"))  # Convertendo para float\n",
        "num2 = float(input(\"Digite o segundo número: \"))\n",
        "\n",
        "# Passo 2: Pedir a operação desejada\n",
        "print(\"\\nOperações disponíveis:\")\n",
        "print(\"1 - Soma | 2 - Subtração | 3 - Multiplicação | 4 - Divisão\")\n",
        "opcao = input(\"Escolha uma operação (1-4): \")\n",
        "\n",
        "# Passo 3: Realizar o cálculo com condicional\n",
        "if opcao == '1':\n",
        "    resultado = num1 + num2\n",
        "    print(f\"\\nResultado: {num1} + {num2} = {resultado}\")\n",
        "elif opcao == '2':\n",
        "    resultado = num1 - num2\n",
        "    print(f\"\\nResultado: {num1} - {num2} = {resultado}\")\n",
        "elif opcao == '3':\n",
        "    resultado = num1 * num2\n",
        "    print(f\"\\nResultado: {num1} * {num2} = {resultado}\")\n",
        "elif opcao == '4':\n",
        "    if num2 != 0:  # Evita divisão por zero\n",
        "        resultado = num1 / num2\n",
        "        print(f\"\\nResultado: {num1} / {num2} = {resultado}\")\n",
        "    else:\n",
        "        print(\"\\nErro: Divisão por zero!\")\n",
        "else:\n",
        "    print(\"\\nOpção inválida!\")"
      ]
    }
  ]
}