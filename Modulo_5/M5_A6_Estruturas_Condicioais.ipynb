{
  "nbformat": 4,
  "nbformat_minor": 0,
  "metadata": {
    "colab": {
      "provenance": []
    },
    "kernelspec": {
      "name": "python3",
      "display_name": "Python 3"
    },
    "language_info": {
      "name": "python"
    }
  },
  "cells": [
    {
      "cell_type": "markdown",
      "source": [
        "# Condicional"
      ],
      "metadata": {
        "id": "ti90v2vCW9U7"
      }
    },
    {
      "cell_type": "code",
      "source": [
        "# if  -> Testar uma verdade\n",
        "if 5 < 10:\n",
        "  print(\"Verdade\")"
      ],
      "metadata": {
        "colab": {
          "base_uri": "https://localhost:8080/"
        },
        "id": "6yQ-pXAvXJja",
        "outputId": "50659162-af66-4831-fb09-1d013c592ff9"
      },
      "execution_count": 15,
      "outputs": [
        {
          "output_type": "stream",
          "name": "stdout",
          "text": [
            "Verdade\n"
          ]
        }
      ]
    },
    {
      "cell_type": "code",
      "source": [
        "# if / else -> Testar  verdade e falso\n",
        "num1 = 10\n",
        "num2 = 5\n",
        "if num1 > num2:\n",
        "   print(\"O num1 é o maior número\")\n",
        "else:\n",
        "   print(\"O num2 é o maior número\")"
      ],
      "metadata": {
        "colab": {
          "base_uri": "https://localhost:8080/"
        },
        "id": "WzzhOdzCXNMi",
        "outputId": "b6c9c326-b610-40e7-a528-002c46400146"
      },
      "execution_count": 18,
      "outputs": [
        {
          "output_type": "stream",
          "name": "stdout",
          "text": [
            "O num1 é o maior número\n"
          ]
        }
      ]
    },
    {
      "cell_type": "code",
      "source": [
        "# if / else / elif -> Quando você quer fazer vários testes\n",
        "num1 = 10\n",
        "num2 = 20\n",
        "if num1 > num2:\n",
        "   print(\"O num1 é o maior número\")\n",
        "elif num1 < num2:\n",
        "   print(\"O num2 é o maior número\")\n",
        "else:\n",
        "   print(\"Os números são iguais\")"
      ],
      "metadata": {
        "colab": {
          "base_uri": "https://localhost:8080/"
        },
        "id": "tUMnlqhIYo6L",
        "outputId": "737bf73c-9703-4c1f-ab09-a7c82a082006"
      },
      "execution_count": 19,
      "outputs": [
        {
          "output_type": "stream",
          "name": "stdout",
          "text": [
            "O num2 é o maior número\n"
          ]
        }
      ]
    },
    {
      "cell_type": "markdown",
      "source": [
        "# Condicional com operadores lógicos"
      ],
      "metadata": {
        "id": "showSix9aP9l"
      }
    },
    {
      "cell_type": "code",
      "source": [
        "num1 = 10\n",
        "num2 = 5\n",
        "num3 = 2\n",
        "if(num1 > num2) and (num1 > num3): # Também pode turbinnar com operadores lógicos para fazer várias comparações em suas condições. Ex: and, or e not\n",
        "    print(\"O num1 é o maior número\")\n",
        "else:\n",
        "  print(\"O num 1 nãao é o maior número\")"
      ],
      "metadata": {
        "colab": {
          "base_uri": "https://localhost:8080/"
        },
        "id": "fAoJBjVSakAM",
        "outputId": "9c7458ff-cae1-4bad-ccbd-44b4eb9f1eed"
      },
      "execution_count": 13,
      "outputs": [
        {
          "output_type": "stream",
          "name": "stdout",
          "text": [
            "O num1 é o maior número\n"
          ]
        }
      ]
    }
  ]
}