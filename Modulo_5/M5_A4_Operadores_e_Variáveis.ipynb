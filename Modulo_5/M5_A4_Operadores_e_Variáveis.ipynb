{
  "nbformat": 4,
  "nbformat_minor": 0,
  "metadata": {
    "colab": {
      "provenance": []
    },
    "kernelspec": {
      "name": "python3",
      "display_name": "Python 3"
    },
    "language_info": {
      "name": "python"
    }
  },
  "cells": [
    {
      "cell_type": "markdown",
      "source": [
        "# Variáveis\n",
        "\n",
        "Variáveis esstão alocados em espaços na memória"
      ],
      "metadata": {
        "id": "6HAq8Zc7InU7"
      }
    },
    {
      "cell_type": "code",
      "source": [
        "# Nome da Variável é \"x\" que armazena o valor 10 em um espaço na memória\n",
        "x = 10\n",
        "print(x) # Utilizar a referência no nome atribuído"
      ],
      "metadata": {
        "id": "xjmzyXTJJMh4"
      },
      "execution_count": null,
      "outputs": []
    },
    {
      "cell_type": "markdown",
      "source": [
        "# Regras\n",
        "\n",
        "\n",
        "**Case Sensittive**\n",
        "\n",
        "A != a\n",
        "\n",
        "**Boas Práticas com Variáveis**\n",
        "\n",
        "-> Exemplo: Multiplicação de dois números\n",
        "\n",
        "Não ussar\n",
        "* Multiplicação\n",
        "* MultiplicaçãoDeDoisNumeros\n",
        "* m\n",
        "\n",
        "Usar\n",
        "* multiplicacao\n",
        "* mult\n",
        "* mult_total (snake_case)\n",
        "\n"
      ],
      "metadata": {
        "id": "wU5oHvqpJ4au"
      }
    }
  ]
}