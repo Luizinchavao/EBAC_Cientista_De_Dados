{
  "nbformat": 4,
  "nbformat_minor": 0,
  "metadata": {
    "colab": {
      "provenance": []
    },
    "kernelspec": {
      "name": "python3",
      "display_name": "Python 3"
    },
    "language_info": {
      "name": "python"
    }
  },
  "cells": [
    {
      "cell_type": "code",
      "execution_count": null,
      "metadata": {
        "colab": {
          "base_uri": "https://localhost:8080/"
        },
        "id": "i1HRI7m7ehHt",
        "outputId": "73120fb8-0394-4bd6-d993-916f6b77f111"
      },
      "outputs": [
        {
          "output_type": "stream",
          "name": "stdout",
          "text": [
            "Olá Mundo, Olá Google Colab!\n"
          ]
        }
      ],
      "source": [
        "print(\"Olá Mundo, Olá Google Colab!\")"
      ]
    }
  ]
}