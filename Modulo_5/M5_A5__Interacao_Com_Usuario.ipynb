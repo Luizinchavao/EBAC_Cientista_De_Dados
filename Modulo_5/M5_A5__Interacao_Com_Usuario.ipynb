{
  "nbformat": 4,
  "nbformat_minor": 0,
  "metadata": {
    "colab": {
      "provenance": []
    },
    "kernelspec": {
      "name": "python3",
      "display_name": "Python 3"
    },
    "language_info": {
      "name": "python"
    }
  },
  "cells": [
    {
      "cell_type": "markdown",
      "source": [
        "# Vizualização De Variáveis e Texto\n"
      ],
      "metadata": {
        "id": "O5U2V_MUOmHZ"
      }
    },
    {
      "cell_type": "code",
      "source": [
        "print(\"Conhecendo o comando Print\")\n",
        "x = 8\n",
        "print(x)\n",
        "\n"
      ],
      "metadata": {
        "colab": {
          "base_uri": "https://localhost:8080/"
        },
        "id": "RboMA-14O_Yo",
        "outputId": "c42f5c69-c706-4003-99b2-a89810ac0863"
      },
      "execution_count": null,
      "outputs": [
        {
          "output_type": "stream",
          "name": "stdout",
          "text": [
            "Conhecendo o comando Print\n",
            "8\n"
          ]
        }
      ]
    },
    {
      "cell_type": "code",
      "source": [
        "y = 10\n",
        "soma = x + y\n",
        "print(soma)"
      ],
      "metadata": {
        "colab": {
          "base_uri": "https://localhost:8080/"
        },
        "id": "EicxB7wbRE_Z",
        "outputId": "b4b6f85d-13b2-41c3-9899-e2638e862847"
      },
      "execution_count": null,
      "outputs": [
        {
          "output_type": "stream",
          "name": "stdout",
          "text": [
            "18\n"
          ]
        }
      ]
    },
    {
      "cell_type": "code",
      "source": [
        "nome = \"Luiz Gomez\"\n",
        "print(nome)"
      ],
      "metadata": {
        "colab": {
          "base_uri": "https://localhost:8080/"
        },
        "id": "iBjAqpJQRNJg",
        "outputId": "31b3889c-7ed2-4a92-c7f3-b123cf7c486a"
      },
      "execution_count": null,
      "outputs": [
        {
          "output_type": "stream",
          "name": "stdout",
          "text": [
            "Luiz Gomez\n"
          ]
        }
      ]
    },
    {
      "cell_type": "markdown",
      "source": [
        "Concatenação"
      ],
      "metadata": {
        "id": "hG0D0uEWRhyi"
      }
    },
    {
      "cell_type": "code",
      "source": [
        "x = 5\n",
        "print(\"O valor de x é:\",x)"
      ],
      "metadata": {
        "colab": {
          "base_uri": "https://localhost:8080/"
        },
        "id": "ffJnDPIIRlWR",
        "outputId": "f35edea5-7e42-4d28-e8c2-aa44efa6a9e9"
      },
      "execution_count": null,
      "outputs": [
        {
          "output_type": "stream",
          "name": "stdout",
          "text": [
            "O valor de x é : 5\n"
          ]
        }
      ]
    },
    {
      "cell_type": "code",
      "source": [
        "print(\"O valor de x é:\", x, \"e o dobro é:\", x * 2)"
      ],
      "metadata": {
        "colab": {
          "base_uri": "https://localhost:8080/"
        },
        "id": "eKp9_Yw-R_4I",
        "outputId": "026cd763-0e0c-4236-a679-50b17fc4953f"
      },
      "execution_count": null,
      "outputs": [
        {
          "output_type": "stream",
          "name": "stdout",
          "text": [
            "O valor de x é: 5 e o dobro é: 10\n"
          ]
        }
      ]
    },
    {
      "cell_type": "code",
      "source": [
        "print(\"Eu,\", nome, \"tirei\", x, \"na prova de Python\")"
      ],
      "metadata": {
        "colab": {
          "base_uri": "https://localhost:8080/"
        },
        "id": "pkqWA_d4Sk28",
        "outputId": "dbbb5e37-8ff5-41d5-9237-a064f6d5a9f7"
      },
      "execution_count": null,
      "outputs": [
        {
          "output_type": "stream",
          "name": "stdout",
          "text": [
            "Eu, Luiz Gomez tirei 5 na prova de Python\n"
          ]
        }
      ]
    },
    {
      "cell_type": "code",
      "source": [
        "y = 10; z = 20 + x - y\n",
        "print(\"Declarar várias váriaveis na mesma linha \", y, z)"
      ],
      "metadata": {
        "colab": {
          "base_uri": "https://localhost:8080/"
        },
        "id": "msYjHuZSUODY",
        "outputId": "13a5fdf7-ba76-4e37-c8f1-2fc1240524a7"
      },
      "execution_count": null,
      "outputs": [
        {
          "output_type": "stream",
          "name": "stdout",
          "text": [
            "Declarar várias váriaveis na mesma linha  10 15\n"
          ]
        }
      ]
    },
    {
      "cell_type": "markdown",
      "source": [
        "Type"
      ],
      "metadata": {
        "id": "aetwxr1gV0Za"
      }
    },
    {
      "cell_type": "code",
      "source": [
        "x = 10\n",
        "type(x)\n",
        "print(\"x\", type(x))\n",
        "\n",
        "nome = \"Luiz Gomez\"\n",
        "print(\"nome\", type(nome))\n",
        "\n",
        "num = \"100\"\n",
        "num_convert = int(num) # Converter a variável\n",
        "print(\"num\", type(num))\n",
        "print(\"num_convert\", type(num_convert))\n",
        "\n",
        "num_float = float(num)\n",
        "print(\"num float\", num_float)\n",
        "\n"
      ],
      "metadata": {
        "colab": {
          "base_uri": "https://localhost:8080/"
        },
        "id": "vkKpfDioV6Hx",
        "outputId": "48e5352e-7511-4b46-f209-7cc68b79a082"
      },
      "execution_count": null,
      "outputs": [
        {
          "output_type": "stream",
          "name": "stdout",
          "text": [
            "x <class 'int'>\n",
            "nome <class 'str'>\n",
            "num <class 'str'>\n",
            "num_convert <class 'int'>\n",
            "num float 100.0\n"
          ]
        }
      ]
    },
    {
      "cell_type": "markdown",
      "source": [
        "Input\n",
        "\n",
        "* Armazenar a informação digitada pelo usuário em uma variável\n",
        "* O dado armazenado, sempre sserá um texto"
      ],
      "metadata": {
        "id": "r-ljGaOrcTXc"
      }
    },
    {
      "cell_type": "code",
      "source": [],
      "metadata": {
        "id": "V9yeMldHc5-E"
      },
      "execution_count": 1,
      "outputs": []
    },
    {
      "cell_type": "code",
      "source": [
        "nome = input( \"Digite o nome do Usuário: \") # Agaurdo o usuário digitar algo\n",
        "print(nome)"
      ],
      "metadata": {
        "id": "0EEYnnHCcvsC"
      },
      "execution_count": null,
      "outputs": []
    },
    {
      "cell_type": "code",
      "source": [
        "valor = input(\"Digite a nota: \")\n",
        "print(nome, \"Sua nota foi: \", valor)"
      ],
      "metadata": {
        "id": "BJMSUgOxdU0a"
      },
      "execution_count": null,
      "outputs": []
    },
    {
      "cell_type": "code",
      "source": [
        "valor = input(\"Digite o valor do produto: \")\n",
        "print(valor)"
      ],
      "metadata": {
        "id": "1c5fTjGrdxK1",
        "colab": {
          "base_uri": "https://localhost:8080/"
        },
        "outputId": "daa76b53-14fc-498a-9d39-6d9c1ac7692d"
      },
      "execution_count": 2,
      "outputs": [
        {
          "output_type": "stream",
          "name": "stdout",
          "text": [
            "Digite o valor do produto: 100\n",
            "100\n"
          ]
        }
      ]
    },
    {
      "cell_type": "code",
      "source": [
        "desconto = valor - 5"
      ],
      "metadata": {
        "id": "2cpD1TZ7d-tK",
        "colab": {
          "base_uri": "https://localhost:8080/",
          "height": 141
        },
        "outputId": "a75fa6ca-57da-498a-da70-993ac9bdeea3"
      },
      "execution_count": 4,
      "outputs": [
        {
          "output_type": "error",
          "ename": "TypeError",
          "evalue": "unsupported operand type(s) for -: 'str' and 'int'",
          "traceback": [
            "\u001b[0;31m---------------------------------------------------------------------------\u001b[0m",
            "\u001b[0;31mTypeError\u001b[0m                                 Traceback (most recent call last)",
            "\u001b[0;32m/tmp/ipython-input-4-2171237004.py\u001b[0m in \u001b[0;36m<cell line: 0>\u001b[0;34m()\u001b[0m\n\u001b[0;32m----> 1\u001b[0;31m \u001b[0mdesconto\u001b[0m \u001b[0;34m=\u001b[0m \u001b[0mvalor\u001b[0m \u001b[0;34m-\u001b[0m \u001b[0;36m5\u001b[0m\u001b[0;34m\u001b[0m\u001b[0;34m\u001b[0m\u001b[0m\n\u001b[0m",
            "\u001b[0;31mTypeError\u001b[0m: unsupported operand type(s) for -: 'str' and 'int'"
          ]
        }
      ]
    },
    {
      "cell_type": "code",
      "source": [
        "valor_convert = int(valor)      # Geralmennte vai aplicar nesse modelo quando for usar essa variável (valor_convert)em outros lugares no seu código\n",
        "desconto = valor_convert - 5\n",
        "print(desconto)"
      ],
      "metadata": {
        "id": "zq_LnvGdeQnq",
        "colab": {
          "base_uri": "https://localhost:8080/"
        },
        "outputId": "82db8c8a-10c8-498a-a0f1-0087abe3f36f"
      },
      "execution_count": 11,
      "outputs": [
        {
          "output_type": "stream",
          "name": "stdout",
          "text": [
            "95\n"
          ]
        }
      ]
    },
    {
      "cell_type": "code",
      "source": [
        "desconto = int(valor) - 5   # Aplica desse modo quando for usar no mesmso lugar no código apenas em uma linha\n",
        "print(desconto)"
      ],
      "metadata": {
        "colab": {
          "base_uri": "https://localhost:8080/"
        },
        "id": "_rN6KbT4JwQd",
        "outputId": "e93c6b96-26eb-4f10-b13c-1db8d3a9d43b"
      },
      "execution_count": 10,
      "outputs": [
        {
          "output_type": "stream",
          "name": "stdout",
          "text": [
            "95\n"
          ]
        }
      ]
    }
  ]
}