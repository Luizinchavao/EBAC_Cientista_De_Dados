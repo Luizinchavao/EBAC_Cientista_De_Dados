{
  "nbformat": 4,
  "nbformat_minor": 0,
  "metadata": {
    "colab": {
      "provenance": []
    },
    "kernelspec": {
      "name": "python3",
      "display_name": "Python 3"
    },
    "language_info": {
      "name": "python"
    }
  },
  "cells": [
    {
      "cell_type": "code",
      "execution_count": null,
      "metadata": {
        "id": "NDoR1a7xnSub"
      },
      "outputs": [],
      "source": [
        "# lista - São formada por colchetes - Lista, como tupla e dicionario pode  colocar qualquer tipo de conteúdo ex: coloquei um número inteiro [5], coloquei uma string \"Luiz Gomez\", coloqui um número flutuante 8.9\n",
        "(1,2,3,4,5)"
      ]
    },
    {
      "cell_type": "code",
      "source": [
        "# tupla -> Formada por parenteses\n",
        "(1,2,3,4,5)"
      ],
      "metadata": {
        "id": "6sFF1UN8notd"
      },
      "execution_count": null,
      "outputs": []
    },
    {
      "cell_type": "code",
      "source": [
        "# dicionário -> Formado por chaves\n",
        "{\"num1\": 1, \"num2\" : 2}"
      ],
      "metadata": {
        "colab": {
          "base_uri": "https://localhost:8080/"
        },
        "id": "dbIimvfnnuAL",
        "outputId": "0936441e-0ef7-4b97-d86d-9544a77564a8"
      },
      "execution_count": 3,
      "outputs": [
        {
          "output_type": "execute_result",
          "data": {
            "text/plain": [
              "{'num1': 1, 'num2': 2}"
            ]
          },
          "metadata": {},
          "execution_count": 3
        }
      ]
    },
    {
      "cell_type": "markdown",
      "source": [
        "# Lista"
      ],
      "metadata": {
        "id": "ECsnx-FEpRxr"
      }
    },
    {
      "cell_type": "code",
      "source": [
        "lista = [5, \"Luiz Gomez\", 8.9]"
      ],
      "metadata": {
        "id": "DrSsjP5JpQlb"
      },
      "execution_count": 20,
      "outputs": []
    },
    {
      "cell_type": "code",
      "source": [
        "type(lista)\n"
      ],
      "metadata": {
        "colab": {
          "base_uri": "https://localhost:8080/"
        },
        "id": "MGJ4_TfWpQdE",
        "outputId": "cac06fa6-5054-410e-97aa-6f2008b01681"
      },
      "execution_count": 19,
      "outputs": [
        {
          "output_type": "execute_result",
          "data": {
            "text/plain": [
              "set"
            ]
          },
          "metadata": {},
          "execution_count": 19
        }
      ]
    },
    {
      "cell_type": "code",
      "source": [
        "lista.append(\"August\") # Adicionar um elemento na lista"
      ],
      "metadata": {
        "id": "4Km-dYHupxku"
      },
      "execution_count": 40,
      "outputs": []
    },
    {
      "cell_type": "code",
      "source": [
        "print(lista)\n",
        "print(lista[0]) #Pedi para imprimir o primeiro item da lita [0] -> (5)\n",
        "print(lista[1]) # Pedi para imprimir o segundo item dessa lista [1] -> (Luiz Gomez)\n"
      ],
      "metadata": {
        "colab": {
          "base_uri": "https://localhost:8080/"
        },
        "id": "subJ4j8HqOZb",
        "outputId": "49ed8f7b-fd52-4d2c-9a11-6642ea68163d"
      },
      "execution_count": 34,
      "outputs": [
        {
          "output_type": "stream",
          "name": "stdout",
          "text": [
            "[5, 'Luiz Gomez', 8.9, 'August']\n",
            "5\n",
            "Luiz Gomez\n"
          ]
        }
      ]
    },
    {
      "cell_type": "markdown",
      "source": [
        "# Tupla"
      ],
      "metadata": {
        "id": "0-sSOkplqW_-"
      }
    },
    {
      "cell_type": "code",
      "metadata": {
        "colab": {
          "base_uri": "https://localhost:8080/"
        },
        "id": "e8f07432",
        "outputId": "07bee7e8-22c8-4d1f-c6cd-3165ca2afd31"
      },
      "source": [
        "tupla = (5, \"Luiz Gomez\", 8.9) # Tupla-> Os valres não podem serem modificados\n",
        "print(tupla)"
      ],
      "execution_count": 41,
      "outputs": [
        {
          "output_type": "stream",
          "name": "stdout",
          "text": [
            "(5, 'Luiz Gomez', 8.9)\n"
          ]
        }
      ]
    },
    {
      "cell_type": "code",
      "source": [
        "type(tupla)"
      ],
      "metadata": {
        "colab": {
          "base_uri": "https://localhost:8080/"
        },
        "id": "yj6sNG_Wy_dn",
        "outputId": "9e3370a2-d9c7-4a18-87f9-85d9f55639c2"
      },
      "execution_count": 38,
      "outputs": [
        {
          "output_type": "execute_result",
          "data": {
            "text/plain": [
              "tuple"
            ]
          },
          "metadata": {},
          "execution_count": 38
        }
      ]
    },
    {
      "cell_type": "code",
      "source": [
        "tupla.append(\"August\") #Exemplo de ERRO - Na Tupla não permite adicionar informações, não podem serem modificadas"
      ],
      "metadata": {
        "colab": {
          "base_uri": "https://localhost:8080/",
          "height": 148
        },
        "id": "FxNjnupWzIZG",
        "outputId": "bf00c850-bc09-4405-befb-8fe2b930502e"
      },
      "execution_count": 42,
      "outputs": [
        {
          "output_type": "error",
          "ename": "AttributeError",
          "evalue": "'tuple' object has no attribute 'append'",
          "traceback": [
            "\u001b[0;31m---------------------------------------------------------------------------\u001b[0m",
            "\u001b[0;31mAttributeError\u001b[0m                            Traceback (most recent call last)",
            "\u001b[0;32m/tmp/ipython-input-42-4164775966.py\u001b[0m in \u001b[0;36m<cell line: 0>\u001b[0;34m()\u001b[0m\n\u001b[0;32m----> 1\u001b[0;31m \u001b[0mtupla\u001b[0m\u001b[0;34m.\u001b[0m\u001b[0mappend\u001b[0m\u001b[0;34m\u001b[0m\u001b[0;34m\u001b[0m\u001b[0m\n\u001b[0m",
            "\u001b[0;31mAttributeError\u001b[0m: 'tuple' object has no attribute 'append'"
          ]
        }
      ]
    },
    {
      "cell_type": "code",
      "source": [
        "Parecido com uma lista porém pode usar qualquer valor"
      ],
      "metadata": {
        "id": "bz7IJ8mv3G2R"
      },
      "execution_count": null,
      "outputs": []
    },
    {
      "cell_type": "markdown",
      "source": [
        "# Dicionário"
      ],
      "metadata": {
        "id": "1NVRhcJQ28_p"
      }
    },
    {
      "cell_type": "code",
      "source": [
        "dicionario = {\"nome\" : \"Luiz Gomez\", \"cidade\" : \"São Paulo\" }\n",
        "type(dicionario)"
      ],
      "metadata": {
        "colab": {
          "base_uri": "https://localhost:8080/"
        },
        "id": "TmzkAd0S27rP",
        "outputId": "fc74a706-c02b-40ca-e77e-de4f9a09f608"
      },
      "execution_count": 49,
      "outputs": [
        {
          "output_type": "execute_result",
          "data": {
            "text/plain": [
              "dict"
            ]
          },
          "metadata": {},
          "execution_count": 49
        }
      ]
    },
    {
      "cell_type": "code",
      "source": [
        "print(dicionario)"
      ],
      "metadata": {
        "colab": {
          "base_uri": "https://localhost:8080/"
        },
        "id": "07RwmHGW4Wz-",
        "outputId": "13d159a3-c144-4690-97b4-daa9ae4e0183"
      },
      "execution_count": 50,
      "outputs": [
        {
          "output_type": "stream",
          "name": "stdout",
          "text": [
            "{'nome': 'Luiz Gomez', 'cidade': 'São Paulo'}\n"
          ]
        }
      ]
    }
  ]
}