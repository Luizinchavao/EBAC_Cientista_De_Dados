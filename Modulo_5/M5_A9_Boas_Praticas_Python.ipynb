{
  "nbformat": 4,
  "nbformat_minor": 0,
  "metadata": {
    "colab": {
      "provenance": []
    },
    "kernelspec": {
      "name": "python3",
      "display_name": "Python 3"
    },
    "language_info": {
      "name": "python"
    }
  },
  "cells": [
    {
      "cell_type": "code",
      "execution_count": 6,
      "metadata": {
        "id": "bnp9qC6a-8QI",
        "colab": {
          "base_uri": "https://localhost:8080/"
        },
        "outputId": "7da1380c-1c6f-45fd-fc52-15afb223ab5c"
      },
      "outputs": [
        {
          "output_type": "stream",
          "name": "stdout",
          "text": [
            "Por favor, insira seu nome: Luiz Gomez\n",
            "Olá, Luiz Gomez ! Bem-vindo ao nosso sistema.\n",
            "Por favor, insira sua idade: 34\n",
            "Você é maior de idade.\n"
          ]
        }
      ],
      "source": [
        "# Solicita o nome do usuário e exibe\n",
        "nome_usuario = input ( \"Por favor, insira seu nome: \" )\n",
        "print ( f\"Olá, {nome_usuario} ! Bem-vindo ao nosso sistema.\" )\n",
        "\n",
        "# Solicita a idade do usuário e converte para inteira\n",
        "idade_usuario = int ( input ( \"Por favor, insira sua idade: \" ))\n",
        "\n",
        "# Verifique se o usuário é maior de idade\n",
        "if idade_usuario >= 18 :\n",
        "     print ( \"Você é maior de idade.\" )\n",
        "else :\n",
        "     print ( \"Você é menor de idade.\" )"
      ]
    }
  ]
}